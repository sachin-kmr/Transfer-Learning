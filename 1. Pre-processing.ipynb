{
 "cells": [
  {
   "cell_type": "code",
   "execution_count": 1,
   "metadata": {},
   "outputs": [
    {
     "name": "stderr",
     "output_type": "stream",
     "text": [
      "Using Theano backend.\n",
      "WARNING (theano.sandbox.cuda): The cuda backend is deprecated and will be removed in the next release (v0.10).  Please switch to the gpuarray backend. You can get more information about how to switch at this URL:\n",
      " https://github.com/Theano/Theano/wiki/Converting-to-the-new-gpu-back-end%28gpuarray%29\n",
      "\n",
      "Using gpu device 0: GeForce GTX 1060 6GB (CNMeM is disabled, cuDNN 5110)\n"
     ]
    }
   ],
   "source": [
    "import numpy as np\n",
    "import keras\n",
    "from keras.preprocessing import image\n",
    "import os"
   ]
  },
  {
   "cell_type": "code",
   "execution_count": 2,
   "metadata": {
    "collapsed": true
   },
   "outputs": [],
   "source": [
    "CAT_PATH = \"./train/Cats/\"\n",
    "DOG_PATH = \"./train/Dogs/\""
   ]
  },
  {
   "cell_type": "code",
   "execution_count": 3,
   "metadata": {
    "collapsed": true
   },
   "outputs": [],
   "source": [
    "def load_image(path):\n",
    "    img = image.load_img(path, target_size=(224,224,3))\n",
    "    img = image.img_to_array(img)\n",
    "    return img"
   ]
  },
  {
   "cell_type": "code",
   "execution_count": 4,
   "metadata": {
    "collapsed": true
   },
   "outputs": [],
   "source": [
    "cat_images=[]\n",
    "\n",
    "cat_list = os.listdir(CAT_PATH)\n",
    "\n",
    "for ix in range(len(cat_list)/2):\n",
    "    cat_images.append(load_image(CAT_PATH + str(cat_list[ix])))\n",
    "\n",
    "cat_images = np.asarray(cat_images)\n",
    "# cat_images = cat_images/255.0"
   ]
  },
  {
   "cell_type": "code",
   "execution_count": 5,
   "metadata": {},
   "outputs": [
    {
     "name": "stdout",
     "output_type": "stream",
     "text": [
      "(6250L, 224L, 224L, 3L)\n"
     ]
    }
   ],
   "source": [
    "print cat_images.shape\n",
    "\n",
    "np.save(\"./cat_images.npy\", cat_images)"
   ]
  },
  {
   "cell_type": "code",
   "execution_count": 6,
   "metadata": {
    "collapsed": true
   },
   "outputs": [],
   "source": [
    "dog_images=[]\n",
    "\n",
    "dog_list = os.listdir(DOG_PATH)\n",
    "\n",
    "for ix in range(len(dog_list)/2):\n",
    "    dog_images.append(load_image(DOG_PATH + str(dog_list[ix])))\n",
    "    \n",
    "dog_images = np.asarray(dog_images)\n",
    "# dog_images = dog_images/255.0"
   ]
  },
  {
   "cell_type": "code",
   "execution_count": null,
   "metadata": {},
   "outputs": [
    {
     "name": "stdout",
     "output_type": "stream",
     "text": [
      "(6250L, 224L, 224L, 3L)\n"
     ]
    }
   ],
   "source": [
    "print dog_images.shape\n",
    "\n",
    "np.save(\"./dog_images.npy\", dog_images)"
   ]
  },
  {
   "cell_type": "code",
   "execution_count": null,
   "metadata": {},
   "outputs": [
    {
     "name": "stdout",
     "output_type": "stream",
     "text": [
      "(6250L, 224L, 224L, 3L)\n",
      "(6250L, 224L, 224L, 3L)\n",
      "(12500L, 224L, 224L, 3L)\n"
     ]
    }
   ],
   "source": [
    "cat_images = np.load(\"./cat_images.npy\")\n",
    "dog_images = np.load(\"./dog_images.npy\")\n",
    "\n",
    "print cat_images.shape\n",
    "print dog_images.shape\n",
    "\n",
    "data = np.concatenate((cat_images, dog_images), axis=0)\n",
    "print data.shape\n",
    "np.save(\"./data.npy\", data)"
   ]
  },
  {
   "cell_type": "code",
   "execution_count": 9,
   "metadata": {
    "collapsed": true
   },
   "outputs": [],
   "source": [
    "labels = np.zeros(data.shape[0])\n",
    "\n",
    "labels[data.shape[0]/2:]=1 #dogs are encoded to 1"
   ]
  },
  {
   "cell_type": "code",
   "execution_count": 12,
   "metadata": {},
   "outputs": [
    {
     "name": "stdout",
     "output_type": "stream",
     "text": [
      "(12500L,)\n"
     ]
    }
   ],
   "source": [
    "print labels.shape\n",
    "np.save(\"./labels.npy\", labels)"
   ]
  },
  {
   "cell_type": "code",
   "execution_count": null,
   "metadata": {
    "collapsed": true
   },
   "outputs": [],
   "source": []
  }
 ],
 "metadata": {
  "kernelspec": {
   "display_name": "Python 2",
   "language": "python",
   "name": "python2"
  },
  "language_info": {
   "codemirror_mode": {
    "name": "ipython",
    "version": 2
   },
   "file_extension": ".py",
   "mimetype": "text/x-python",
   "name": "python",
   "nbconvert_exporter": "python",
   "pygments_lexer": "ipython2",
   "version": "2.7.13"
  }
 },
 "nbformat": 4,
 "nbformat_minor": 2
}
